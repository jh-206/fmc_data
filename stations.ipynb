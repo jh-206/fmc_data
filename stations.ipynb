{
 "cells": [
  {
   "cell_type": "markdown",
   "id": "adb7c1a8-7612-408d-8dfd-f9e542aaaa6c",
   "metadata": {},
   "source": [
    "# Station Mesonet Networks\n",
    "\n",
    "Synoptic provides observations from weather stations in various mesonet networks. Most are RAWS, but many are private.\n",
    "\n",
    "Mesonet Categories: https://docs.synopticdata.com/services/network-types-table\n",
    "\n",
    "| ID | Category Description        | Code        |\n",
    "|----|-----------------------------|-------------|\n",
    "| 1  | Agricultural                | AG          |\n",
    "| 2  | Air Quality                 | AQ          |\n",
    "| 3  | Offshore, CA, MX            | EXT         |\n",
    "| 4  | Federal and State Networks  | FED+        |\n",
    "| 5  | Hydrological                | HYDRO       |\n",
    "| 6  | State and Local             | LOCAL       |\n",
    "| 7  | NWS/FAA                     | NWS         |\n",
    "| 8  | CWOP                        | PUBLIC      |\n",
    "| 9  | Fire Weather                | RAWS        |\n",
    "| 10 | Road and Rail Weather       | TRANS       |\n",
    "| 11 | Public Utility              | UTILITY     |\n",
    "| 12 | Research and Education      | RESEARCH    |\n",
    "| 13 | Commercial                  | COMMERCIAL  |\n",
    "| 14 | International               | INTERNATIONAL |\n"
   ]
  },
  {
   "cell_type": "code",
   "execution_count": null,
   "id": "e1f71aa3-d177-46f4-a610-f51f63592be5",
   "metadata": {},
   "outputs": [],
   "source": [
    "import pandas as pd\n",
    "import synoptic \n",
    "import numpy as np"
   ]
  },
  {
   "cell_type": "code",
   "execution_count": null,
   "id": "55ae6c5d-ed68-4185-807a-858208165314",
   "metadata": {},
   "outputs": [],
   "source": [
    "gb = pd.read_csv(\"data/stations_gb.csv\")"
   ]
  },
  {
   "cell_type": "code",
   "execution_count": null,
   "id": "7bbd55ee-575f-45ce-ba4c-1530e4fa120f",
   "metadata": {},
   "outputs": [],
   "source": [
    "# Filter to stations with missing sensor info\n",
    "sts = gb[gb[\"DCP Info\"].isna()]"
   ]
  },
  {
   "cell_type": "code",
   "execution_count": null,
   "id": "7ffdda6d-7505-449c-90dd-7904a480546b",
   "metadata": {},
   "outputs": [],
   "source": [
    "sts.head()"
   ]
  },
  {
   "cell_type": "code",
   "execution_count": null,
   "id": "67e0426a-3e4a-4135-88a0-7d382ef97fb1",
   "metadata": {},
   "outputs": [],
   "source": [
    "bbox = [\n",
    "    np.floor(sts.lon.min()),\n",
    "    np.floor(sts.lat.min()),\n",
    "    np.ceil(sts.lon.max()),\n",
    "    np.ceil(sts.lat.max())\n",
    "]"
   ]
  },
  {
   "cell_type": "code",
   "execution_count": null,
   "id": "c715ca4f-7484-491c-91c8-8bd6978f3057",
   "metadata": {},
   "outputs": [],
   "source": [
    "dat = synoptic.Metadata(bbox = bbox, vars=\"fuel_moisture\")\n",
    "df = dat.df()\n",
    "df = pd.DataFrame(df, columns = df.columns)"
   ]
  },
  {
   "cell_type": "code",
   "execution_count": null,
   "id": "d842e7bf-5823-4eec-90eb-07d3437455d2",
   "metadata": {},
   "outputs": [],
   "source": [
    "meta0 = sts.stid.isin(df[\"stid\"])"
   ]
  },
  {
   "cell_type": "code",
   "execution_count": null,
   "id": "278a3fba-fa00-43a8-992d-c6ad35640b65",
   "metadata": {},
   "outputs": [],
   "source": [
    "# Stations not found\n",
    "print(f\"Stations no metadata: {sts[~meta0].shape[0]}\")\n",
    "sts[~meta0]"
   ]
  },
  {
   "cell_type": "code",
   "execution_count": null,
   "id": "6fb43a59-c429-47a9-82b5-734f6058ab56",
   "metadata": {},
   "outputs": [],
   "source": [
    "st = \"LIB05\"\n",
    "df[df[\"stid\"] == st]"
   ]
  },
  {
   "cell_type": "code",
   "execution_count": null,
   "id": "09fb87d1-3f6f-4b04-9e1a-043f42890c24",
   "metadata": {},
   "outputs": [],
   "source": [
    "df[df.stid.isin(sts.stid)]"
   ]
  },
  {
   "cell_type": "code",
   "execution_count": null,
   "id": "da8577b5-c2d5-4cb4-aa85-06bb249584f4",
   "metadata": {},
   "outputs": [],
   "source": [
    "df[df.stid.isin(sts.stid)].mnet_id.unique()"
   ]
  },
  {
   "cell_type": "code",
   "execution_count": null,
   "id": "7ada5f84-1331-493d-be64-a4052aeae1a2",
   "metadata": {},
   "outputs": [],
   "source": [
    "df[df.stid.isin(sts.stid)].mnet_id.value_counts()"
   ]
  },
  {
   "cell_type": "code",
   "execution_count": null,
   "id": "9d370af0-6718-4393-b6dd-08dc7918ab47",
   "metadata": {},
   "outputs": [],
   "source": [
    "df[df.stid == \"NV055\"]"
   ]
  },
  {
   "cell_type": "code",
   "execution_count": null,
   "id": "deaf8b7d-0736-4e75-a5c0-548b56c395db",
   "metadata": {},
   "outputs": [],
   "source": [
    "df[df.stid.str.startswith(\"NV\")].mnet_id.value_counts()"
   ]
  },
  {
   "cell_type": "code",
   "execution_count": null,
   "id": "0169e281-da5f-4dde-bad3-59c28e88ffac",
   "metadata": {},
   "outputs": [],
   "source": [
    "df[df.stid.str.startswith(\"LIB\")].mnet_id.value_counts()"
   ]
  },
  {
   "cell_type": "code",
   "execution_count": null,
   "id": "c88eacee-c926-4d15-8cd0-af4ee0603d2a",
   "metadata": {},
   "outputs": [],
   "source": [
    "import requests\n",
    "\n",
    "url = \"https://api.synopticdata.com/v2/networks\"\n",
    "params = {\"token\": \"9efa264d35854374af44aff536f9ce3d\"}\n",
    "r = requests.get(url, params=params)\n",
    "data = r.json()"
   ]
  },
  {
   "cell_type": "code",
   "execution_count": null,
   "id": "eb764d7d-7ce0-4ae8-b3e4-e079fe3e376f",
   "metadata": {},
   "outputs": [],
   "source": [
    "snames = [net[\"SHORTNAME\"] for net in data[\"MNET\"]]"
   ]
  },
  {
   "cell_type": "code",
   "execution_count": null,
   "id": "7e81485a-0145-4191-b175-4cb50f8c4aa9",
   "metadata": {},
   "outputs": [],
   "source": [
    "data[\"MNET\"][1]"
   ]
  },
  {
   "cell_type": "code",
   "execution_count": null,
   "id": "dd0628b1-101b-471c-8e59-ed01d9d07810",
   "metadata": {},
   "outputs": [],
   "source": [
    "data[\"MNET\"][245]"
   ]
  },
  {
   "cell_type": "code",
   "execution_count": null,
   "id": "7caa808e-eb7b-4d25-aef0-a2467ca75aeb",
   "metadata": {},
   "outputs": [],
   "source": [
    "data[\"MNET\"][260]"
   ]
  },
  {
   "cell_type": "code",
   "execution_count": null,
   "id": "71f9985d-ada6-4d84-914b-0557ac6df4fc",
   "metadata": {},
   "outputs": [],
   "source": [
    "networks = pd.DataFrame(data[\"MNET\"])\n",
    "networks.to_excel(\"data/networks.xlsx\")"
   ]
  },
  {
   "cell_type": "markdown",
   "id": "87ecd38e-f846-4764-86af-059f172b1a11",
   "metadata": {},
   "source": [
    "### All stations from Synoptic"
   ]
  },
  {
   "cell_type": "code",
   "execution_count": null,
   "id": "b02ea47a-c119-4e7c-955d-132b0717101e",
   "metadata": {},
   "outputs": [],
   "source": [
    "dat = synoptic.Metadata(vars=\"fuel_moisture\")\n",
    "df = dat.df()\n",
    "df = pd.DataFrame(df, columns = df.columns)"
   ]
  },
  {
   "cell_type": "code",
   "execution_count": null,
   "id": "a8ac1980-1855-4b53-b605-37a51f49eb10",
   "metadata": {},
   "outputs": [],
   "source": [
    "df.to_excel(\"data/all_synoptic_stations.xlsx\", index=False)"
   ]
  },
  {
   "cell_type": "code",
   "execution_count": null,
   "id": "1e2afc33-e650-4dd9-87f8-b665362af376",
   "metadata": {},
   "outputs": [],
   "source": []
  },
  {
   "cell_type": "code",
   "execution_count": null,
   "id": "acabf336-dc98-476f-b837-50d783a99828",
   "metadata": {},
   "outputs": [],
   "source": []
  },
  {
   "cell_type": "code",
   "execution_count": null,
   "id": "dcdc8813-6d70-420c-87c8-1244f68c16ad",
   "metadata": {},
   "outputs": [],
   "source": []
  }
 ],
 "metadata": {
  "kernelspec": {
   "display_name": "Python 3 (ipykernel)",
   "language": "python",
   "name": "python3"
  },
  "language_info": {
   "codemirror_mode": {
    "name": "ipython",
    "version": 3
   },
   "file_extension": ".py",
   "mimetype": "text/x-python",
   "name": "python",
   "nbconvert_exporter": "python",
   "pygments_lexer": "ipython3",
   "version": "3.12.2"
  }
 },
 "nbformat": 4,
 "nbformat_minor": 5
}
